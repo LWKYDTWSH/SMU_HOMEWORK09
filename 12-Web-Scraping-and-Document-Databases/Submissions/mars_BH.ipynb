{
 "cells": [
  {
   "cell_type": "code",
   "execution_count": 4,
   "id": "1e8e24ca",
   "metadata": {},
   "outputs": [],
   "source": [
    "#Scrape titles and preview text from mars news\n",
    "\n",
    "import pandas as pd\n",
    "from splinter import Browser \n",
    "from bs4 import BeautifulSoup\n",
    "from webdriver_manager.chrome import ChromeDriverManager\n",
    "\n"
   ]
  },
  {
   "cell_type": "code",
   "execution_count": 5,
   "id": "ee9d5a27",
   "metadata": {},
   "outputs": [
    {
     "name": "stderr",
     "output_type": "stream",
     "text": [
      "[WDM] - Downloading: 100%|████████████████████████████████████████████████████████| 6.58M/6.58M [00:00<00:00, 17.1MB/s]\n"
     ]
    }
   ],
   "source": [
    "#Create path to open webpage\n",
    "executable_path = {'executable_path': ChromeDriverManager().install()}\n",
    "browser = Browser('chrome', **executable_path, headless=False)"
   ]
  },
  {
   "cell_type": "code",
   "execution_count": 6,
   "id": "2c9bb0fe",
   "metadata": {},
   "outputs": [],
   "source": [
    "#Go to website\n",
    "browser.visit(\"https://redplanetscience.com\")"
   ]
  },
  {
   "cell_type": "code",
   "execution_count": 7,
   "id": "000d00af",
   "metadata": {},
   "outputs": [
    {
     "data": {
      "text/plain": [
       "'<html><head>\\n      <meta charset=\"utf-8\">\\n      <meta name=\"viewport\" content=\"width=device-width, initial-scale=1\">\\n      <link href=\"https://cdn.jsdelivr.net/npm/bootstrap@5.0.0-beta1/dist/css/bootstrap.min.css\" rel=\"stylesheet\" integrity=\"sha384-giJF6kkoqNQ00vy+HMDP7azOuL0xtbfIcaT9wjKHr8RbDVddVHyTfAAsrekwKmP1\" crossorigin=\"anonymous\">\\n      <link rel=\"stylesheet\" type=\"text/css\" href=\"css/font.css\">\\n      <link rel=\"stylesheet\" type=\"text/css\" href=\"css/app.css\">\\n      <link rel=\"stylesheet\" '"
      ]
     },
     "execution_count": 7,
     "metadata": {},
     "output_type": "execute_result"
    }
   ],
   "source": [
    "#Confirm success\n",
    "html =browser.html\n",
    "html[0:500]"
   ]
  },
  {
   "cell_type": "code",
   "execution_count": 8,
   "id": "3b1fd008",
   "metadata": {},
   "outputs": [
    {
     "data": {
      "text/plain": [
       "bs4.BeautifulSoup"
      ]
     },
     "execution_count": 8,
     "metadata": {},
     "output_type": "execute_result"
    }
   ],
   "source": [
    "#Create BeautifulSoup \n",
    "mars = BeautifulSoup(html)\n",
    "type(mars)"
   ]
  },
  {
   "cell_type": "code",
   "execution_count": 9,
   "id": "3137a6b8",
   "metadata": {},
   "outputs": [
    {
     "data": {
      "text/plain": [
       "15"
      ]
     },
     "execution_count": 9,
     "metadata": {},
     "output_type": "execute_result"
    }
   ],
   "source": [
    "#Extract text from all articles\n",
    "articles = mars.find_all(\"div\", {\"class\": \"list_text\"})\n",
    "len(articles)"
   ]
  },
  {
   "cell_type": "code",
   "execution_count": 10,
   "id": "f0a8ea48",
   "metadata": {},
   "outputs": [
    {
     "data": {
      "text/plain": [
       "<div class=\"list_text\">\n",
       "<div class=\"list_date\">December 30, 2022</div>\n",
       "<div class=\"content_title\">NASA's Mars 2020 Rover Closer to Getting Its Name</div>\n",
       "<div class=\"article_teaser_body\">155 students from across the U.S. have been chosen as semifinalists in NASA's essay contest to name the Mars 2020 rover, and see it launch from Cape Canaveral this July.</div>\n",
       "</div>"
      ]
     },
     "execution_count": 10,
     "metadata": {},
     "output_type": "execute_result"
    }
   ],
   "source": [
    "#Show inspection of an article\n",
    "article =articles[0]\n",
    "article"
   ]
  },
  {
   "cell_type": "code",
   "execution_count": 11,
   "id": "f241efc2",
   "metadata": {},
   "outputs": [
    {
     "data": {
      "text/plain": [
       "'December 30, 2022'"
      ]
     },
     "execution_count": 11,
     "metadata": {},
     "output_type": "execute_result"
    }
   ],
   "source": [
    "#Find the date text only\n",
    "article.find(\"div\", {\"class\": \"list_date\"}).text"
   ]
  },
  {
   "cell_type": "code",
   "execution_count": 12,
   "id": "ed9d5a8b",
   "metadata": {},
   "outputs": [
    {
     "data": {
      "text/plain": [
       "\"NASA's Mars 2020 Rover Closer to Getting Its Name\""
      ]
     },
     "execution_count": 12,
     "metadata": {},
     "output_type": "execute_result"
    }
   ],
   "source": [
    "#Find the title of the article\n",
    "article.find(\"div\", {\"class\": \"content_title\"}).text"
   ]
  },
  {
   "cell_type": "code",
   "execution_count": 13,
   "id": "ab27ee47",
   "metadata": {},
   "outputs": [
    {
     "data": {
      "text/plain": [
       "\"155 students from across the U.S. have been chosen as semifinalists in NASA's essay contest to name the Mars 2020 rover, and see it launch from Cape Canaveral this July.\""
      ]
     },
     "execution_count": 13,
     "metadata": {},
     "output_type": "execute_result"
    }
   ],
   "source": [
    "#Find the body of the article\n",
    "article.find(\"div\", {\"class\": \"article_teaser_body\"}).text"
   ]
  },
  {
   "cell_type": "code",
   "execution_count": 14,
   "id": "44a21478",
   "metadata": {},
   "outputs": [
    {
     "data": {
      "text/html": [
       "<div>\n",
       "<style scoped>\n",
       "    .dataframe tbody tr th:only-of-type {\n",
       "        vertical-align: middle;\n",
       "    }\n",
       "\n",
       "    .dataframe tbody tr th {\n",
       "        vertical-align: top;\n",
       "    }\n",
       "\n",
       "    .dataframe thead th {\n",
       "        text-align: right;\n",
       "    }\n",
       "</style>\n",
       "<table border=\"1\" class=\"dataframe\">\n",
       "  <thead>\n",
       "    <tr style=\"text-align: right;\">\n",
       "      <th></th>\n",
       "      <th>date</th>\n",
       "      <th>title</th>\n",
       "      <th>body</th>\n",
       "    </tr>\n",
       "  </thead>\n",
       "  <tbody>\n",
       "    <tr>\n",
       "      <th>0</th>\n",
       "      <td>December 30, 2022</td>\n",
       "      <td>NASA's Mars 2020 Rover Closer to Getting Its Name</td>\n",
       "      <td>155 students from across the U.S. have been ch...</td>\n",
       "    </tr>\n",
       "    <tr>\n",
       "      <th>1</th>\n",
       "      <td>December 29, 2022</td>\n",
       "      <td>Virginia Middle School Student Earns Honor of ...</td>\n",
       "      <td>NASA chose a seventh-grader from Virginia as w...</td>\n",
       "    </tr>\n",
       "    <tr>\n",
       "      <th>2</th>\n",
       "      <td>December 27, 2022</td>\n",
       "      <td>NASA Updates Mars 2020 Mission Environmental R...</td>\n",
       "      <td>NASA and the Department of Energy have complet...</td>\n",
       "    </tr>\n",
       "    <tr>\n",
       "      <th>3</th>\n",
       "      <td>December 25, 2022</td>\n",
       "      <td>NASA's Perseverance Rover Will Peer Beneath Ma...</td>\n",
       "      <td>The agency's newest rover will use the first g...</td>\n",
       "    </tr>\n",
       "    <tr>\n",
       "      <th>4</th>\n",
       "      <td>December 24, 2022</td>\n",
       "      <td>What's Mars Solar Conjunction, and Why Does It...</td>\n",
       "      <td>NASA spacecraft at Mars are going to be on the...</td>\n",
       "    </tr>\n",
       "    <tr>\n",
       "      <th>5</th>\n",
       "      <td>December 21, 2022</td>\n",
       "      <td>Mars InSight Lander to Push on Top of the 'Mole'</td>\n",
       "      <td>Engineers have a plan for pushing down on the ...</td>\n",
       "    </tr>\n",
       "    <tr>\n",
       "      <th>6</th>\n",
       "      <td>December 15, 2022</td>\n",
       "      <td>NASA's Perseverance Rover Will Carry First Spa...</td>\n",
       "      <td>In a Q&amp;A, spacesuit designer Amy Ross explains...</td>\n",
       "    </tr>\n",
       "    <tr>\n",
       "      <th>7</th>\n",
       "      <td>December 15, 2022</td>\n",
       "      <td>Mars Scientists Investigate Ancient Life in Au...</td>\n",
       "      <td>Teams with NASA's Mars 2020 and ESA's ExoMars ...</td>\n",
       "    </tr>\n",
       "    <tr>\n",
       "      <th>8</th>\n",
       "      <td>December 14, 2022</td>\n",
       "      <td>My Culture, My Voice</td>\n",
       "      <td>In honor of Hispanic Heritage Month, Christina...</td>\n",
       "    </tr>\n",
       "    <tr>\n",
       "      <th>9</th>\n",
       "      <td>December 14, 2022</td>\n",
       "      <td>NASA's Perseverance Mars Rover Gets Its Wheels...</td>\n",
       "      <td>After the rover was shipped from JPL to Kenned...</td>\n",
       "    </tr>\n",
       "    <tr>\n",
       "      <th>10</th>\n",
       "      <td>December 10, 2022</td>\n",
       "      <td>NASA Engineers Checking InSight's Weather Sensors</td>\n",
       "      <td>An electronics issue is suspected to be preven...</td>\n",
       "    </tr>\n",
       "    <tr>\n",
       "      <th>11</th>\n",
       "      <td>December 6, 2022</td>\n",
       "      <td>NASA Mars Mission Connects With Bosnian and He...</td>\n",
       "      <td>A letter from NASA was presented to the mayor ...</td>\n",
       "    </tr>\n",
       "    <tr>\n",
       "      <th>12</th>\n",
       "      <td>December 4, 2022</td>\n",
       "      <td>MAVEN Maps Electric Currents around Mars that ...</td>\n",
       "      <td>Five years after NASA’s MAVEN spacecraft enter...</td>\n",
       "    </tr>\n",
       "    <tr>\n",
       "      <th>13</th>\n",
       "      <td>December 2, 2022</td>\n",
       "      <td>NASA Moves Forward With Campaign to Return Mar...</td>\n",
       "      <td>During this next phase, the program will matur...</td>\n",
       "    </tr>\n",
       "    <tr>\n",
       "      <th>14</th>\n",
       "      <td>December 2, 2022</td>\n",
       "      <td>The Extraordinary Sample-Gathering System of N...</td>\n",
       "      <td>Two astronauts collected Moon rocks on Apollo ...</td>\n",
       "    </tr>\n",
       "  </tbody>\n",
       "</table>\n",
       "</div>"
      ],
      "text/plain": [
       "                 date                                              title  \\\n",
       "0   December 30, 2022  NASA's Mars 2020 Rover Closer to Getting Its Name   \n",
       "1   December 29, 2022  Virginia Middle School Student Earns Honor of ...   \n",
       "2   December 27, 2022  NASA Updates Mars 2020 Mission Environmental R...   \n",
       "3   December 25, 2022  NASA's Perseverance Rover Will Peer Beneath Ma...   \n",
       "4   December 24, 2022  What's Mars Solar Conjunction, and Why Does It...   \n",
       "5   December 21, 2022   Mars InSight Lander to Push on Top of the 'Mole'   \n",
       "6   December 15, 2022  NASA's Perseverance Rover Will Carry First Spa...   \n",
       "7   December 15, 2022  Mars Scientists Investigate Ancient Life in Au...   \n",
       "8   December 14, 2022                               My Culture, My Voice   \n",
       "9   December 14, 2022  NASA's Perseverance Mars Rover Gets Its Wheels...   \n",
       "10  December 10, 2022  NASA Engineers Checking InSight's Weather Sensors   \n",
       "11   December 6, 2022  NASA Mars Mission Connects With Bosnian and He...   \n",
       "12   December 4, 2022  MAVEN Maps Electric Currents around Mars that ...   \n",
       "13   December 2, 2022  NASA Moves Forward With Campaign to Return Mar...   \n",
       "14   December 2, 2022  The Extraordinary Sample-Gathering System of N...   \n",
       "\n",
       "                                                 body  \n",
       "0   155 students from across the U.S. have been ch...  \n",
       "1   NASA chose a seventh-grader from Virginia as w...  \n",
       "2   NASA and the Department of Energy have complet...  \n",
       "3   The agency's newest rover will use the first g...  \n",
       "4   NASA spacecraft at Mars are going to be on the...  \n",
       "5   Engineers have a plan for pushing down on the ...  \n",
       "6   In a Q&A, spacesuit designer Amy Ross explains...  \n",
       "7   Teams with NASA's Mars 2020 and ESA's ExoMars ...  \n",
       "8   In honor of Hispanic Heritage Month, Christina...  \n",
       "9   After the rover was shipped from JPL to Kenned...  \n",
       "10  An electronics issue is suspected to be preven...  \n",
       "11  A letter from NASA was presented to the mayor ...  \n",
       "12  Five years after NASA’s MAVEN spacecraft enter...  \n",
       "13  During this next phase, the program will matur...  \n",
       "14  Two astronauts collected Moon rocks on Apollo ...  "
      ]
     },
     "execution_count": 14,
     "metadata": {},
     "output_type": "execute_result"
    }
   ],
   "source": [
    "#Store the results by creating a dictionary and loop through the article text\n",
    "\n",
    "data = []\n",
    "\n",
    "for article in articles:\n",
    "    date = article.find(\"div\", {\"class\": \"list_date\"}).text\n",
    "    title = article.find(\"div\", {\"class\": \"content_title\"}).text\n",
    "    body = article.find(\"div\", {\"class\": \"article_teaser_body\"}).text\n",
    "    \n",
    "    row = {}\n",
    "    row[\"date\"] = date\n",
    "    row[\"title\"] = title\n",
    "    row[\"body\"] = body\n",
    "    \n",
    "    data.append(row)\n",
    "    \n",
    "df = pd.DataFrame(data)\n",
    "df\n",
    "\n",
    "\n"
   ]
  },
  {
   "cell_type": "code",
   "execution_count": 15,
   "id": "5534702d",
   "metadata": {},
   "outputs": [],
   "source": [
    "#Close the webpage browser\n",
    "browser.quit()"
   ]
  },
  {
   "cell_type": "code",
   "execution_count": 16,
   "id": "d73f2deb",
   "metadata": {},
   "outputs": [],
   "source": [
    "#Export all text from articles into Json format\n",
    "df.to_json(\"mars_files.json\", orient=\"records\")"
   ]
  },
  {
   "cell_type": "code",
   "execution_count": null,
   "id": "c62d400d",
   "metadata": {},
   "outputs": [],
   "source": []
  },
  {
   "cell_type": "code",
   "execution_count": null,
   "id": "82285cde",
   "metadata": {},
   "outputs": [],
   "source": []
  }
 ],
 "metadata": {
  "kernelspec": {
   "display_name": "Python 3 (ipykernel)",
   "language": "python",
   "name": "python3"
  },
  "language_info": {
   "codemirror_mode": {
    "name": "ipython",
    "version": 3
   },
   "file_extension": ".py",
   "mimetype": "text/x-python",
   "name": "python",
   "nbconvert_exporter": "python",
   "pygments_lexer": "ipython3",
   "version": "3.9.12"
  }
 },
 "nbformat": 4,
 "nbformat_minor": 5
}
